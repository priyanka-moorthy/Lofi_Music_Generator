{
 "cells": [
  {
   "cell_type": "code",
   "execution_count": 1,
   "id": "41018aa7",
   "metadata": {},
   "outputs": [],
   "source": [
    "import glob\n",
    "import numpy\n",
    "import pickle\n",
    "from music21 import converter, instrument, note, chord\n",
    "from keras.models import Sequential\n",
    "from keras.layers import Dense\n",
    "from keras.layers import Dropout\n",
    "from keras.layers import LSTM\n",
    "from keras.layers import Activation\n",
    "# from keras.layers import BatchNormalization \n",
    "from tensorflow.keras.layers import BatchNormalization\n",
    "\n",
    "\n",
    "from keras.utils import np_utils\n",
    "from keras.callbacks import ModelCheckpoint\n"
   ]
  },
  {
   "cell_type": "code",
   "execution_count": 2,
   "id": "550a9daa",
   "metadata": {},
   "outputs": [],
   "source": [
    "def prepare_notes():\n",
    "    # prepare notes from midi file\n",
    "    notes = []\n",
    "    for file in glob.glob(\"./datasets/MIDI/*.mid\"):\n",
    "        midi = converter.parse(file)\n",
    "#         print(\"Parsing file: %s\", file)\n",
    "        notes_to_parse = None\n",
    "        \n",
    "        #file has instrument parts\n",
    "        try:\n",
    "            p_ins = instrument.partitionByInstrument(midi)\n",
    "            notes_to_parse = p_ins.parts[0].recurse()\n",
    "        except:\n",
    "            notes_to_parse = midi.flat.notes\n",
    "            \n",
    "        #populate notes\n",
    "        for element in notes_to_parse:\n",
    "            if isinstance(element, note.Note):\n",
    "                notes.append(str(element.pitch))\n",
    "            elif isinstance(element, chord.Chord):\n",
    "                notes.append('.'.join(str(n) for n in element.normalOrder))\n",
    "                \n",
    "    with open('data/notes', 'wb') as filepath:\n",
    "        pickle.dump(notes, filepath)\n",
    "    \n",
    "    return notes\n",
    "                \n",
    "                \n",
    "        "
   ]
  },
  {
   "cell_type": "code",
   "execution_count": 3,
   "id": "7f6b94f4",
   "metadata": {},
   "outputs": [],
   "source": [
    "def train_network():\n",
    "    notes = prepare_notes()\n",
    "    n_vocab = len(set(notes))\n",
    "    network_ip, network_op = prepare_sequences(notes, n_vocab)\n",
    "    model = create_network(network_ip, n_vocab)\n",
    "    train(model, network_ip, network_op)\n",
    "    "
   ]
  },
  {
   "cell_type": "code",
   "execution_count": 4,
   "id": "8e68c7c2",
   "metadata": {},
   "outputs": [],
   "source": [
    "def prepare_sequences(notes, n_vocab):\n",
    "    sequence_length = 100\n",
    "    \n",
    "    #pitch name\n",
    "    pitchnames = sorted(set(item for item in notes))\n",
    "    \n",
    "    #map pitch to int\n",
    "    note_to_int = dict((note, number) for number, note in enumerate(pitchnames))\n",
    "    \n",
    "    network_ip = []\n",
    "    network_op = []\n",
    "    \n",
    "    # create ip and op sequences\n",
    "    for i in range(0, len(notes)-sequence_length,1):\n",
    "        sequence_in = notes[i:i + sequence_length]\n",
    "        sequence_out = notes[i + sequence_length]\n",
    "        network_ip.append([note_to_int[char] for char in sequence_in])\n",
    "        network_op.append(note_to_int[sequence_out])\n",
    "        \n",
    "    n_patterns = len(network_ip)\n",
    "    \n",
    "    network_ip = numpy.reshape(network_ip,(n_patterns,sequence_length,1))\n",
    "    network_ip = network_ip/float(n_vocab)\n",
    "    network_op = np_utils.to_categorical(network_op)\n",
    "    \n",
    "    return(network_ip, network_op)"
   ]
  },
  {
   "cell_type": "code",
   "execution_count": 8,
   "id": "e28ca706",
   "metadata": {},
   "outputs": [],
   "source": [
    "def create_network(network_ip, n_vocab):\n",
    "    model = Sequential()\n",
    "    model.add(LSTM(512,\n",
    "                  input_shape=(network_ip.shape[1], network_ip.shape[2]),\n",
    "                  recurrent_dropout=0.1,\n",
    "                  return_sequences=True\n",
    "                  ))\n",
    "    model.add(LSTM(512, return_sequences=True, recurrent_dropout=0.3))\n",
    "    model.add(LSTM(512))\n",
    "    model.add(BatchNormalization())\n",
    "    model.add(Dropout(0.1))\n",
    "    model.add(Dense(256))\n",
    "    model.add(Activation('relu'))\n",
    "    model.add(BatchNormalization())\n",
    "    model.add(Dropout(0.3))\n",
    "    model.add(Dense(n_vocab))\n",
    "    model.add(Activation('softmax'))\n",
    "    model.compile(loss='categorical_crossentropy', optimizer='rmsprop')\n",
    "    \n",
    "    return model\n",
    "    "
   ]
  },
  {
   "cell_type": "code",
   "execution_count": 9,
   "id": "7ffb1353",
   "metadata": {},
   "outputs": [],
   "source": [
    "def train(model, network_ip, network_op):\n",
    "    filepath =\"weights-improvement-{epoch:02d}-{loss:.4f}-bigger.hdf5\"\n",
    "    checkpoint = ModelCheckpoint(filepath, monitor='loss', verbose=0, save_best_only=True, mode='min')\n",
    "    callbacks_list = [checkpoint]\n",
    "    model.fit(network_ip, network_op, epochs=10, batch_size=128, callbacks=callbacks_list)"
   ]
  },
  {
   "cell_type": "code",
   "execution_count": null,
   "id": "b0ad9d3c",
   "metadata": {},
   "outputs": [
    {
     "name": "stdout",
     "output_type": "stream",
     "text": [
      "Epoch 1/10\n",
      "346/346 [==============================] - 3961s 11s/step - loss: 5.1797\n",
      "Epoch 2/10\n",
      " 62/346 [====>.........................] - ETA: 3:13:32 - loss: 4.5823"
     ]
    }
   ],
   "source": [
    "if __name__ == '__main__':\n",
    "    train_network()"
   ]
  },
  {
   "cell_type": "code",
   "execution_count": null,
   "id": "897f1f8e",
   "metadata": {},
   "outputs": [],
   "source": []
  }
 ],
 "metadata": {
  "kernelspec": {
   "display_name": "Python 3",
   "language": "python",
   "name": "python3"
  },
  "language_info": {
   "codemirror_mode": {
    "name": "ipython",
    "version": 3
   },
   "file_extension": ".py",
   "mimetype": "text/x-python",
   "name": "python",
   "nbconvert_exporter": "python",
   "pygments_lexer": "ipython3",
   "version": "3.6.2"
  }
 },
 "nbformat": 4,
 "nbformat_minor": 5
}
